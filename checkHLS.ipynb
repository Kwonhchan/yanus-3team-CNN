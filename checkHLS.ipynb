{
 "cells": [
  {
   "cell_type": "code",
   "execution_count": 8,
   "metadata": {},
   "outputs": [],
   "source": [
    "import cv2\n",
    "import numpy as np\n",
    "import sys\n",
    "\n",
    "if len(sys.argv) != 2:\n",
    "    print(\"Provide image name to read\")\n",
    "    sys.exit()\n",
    "\n",
    "image_path = r\"Dataset\\nfake\\1.jpg\"\n",
    "input_img = cv2.imread(image_path)\n",
    "\n",
    "if input_img is None:\n",
    "    print(\"Error: Unable to read image\")\n",
    "    sys.exit()\n",
    "\n",
    "hls_img = cv2.cvtColor(input_img, cv2.COLOR_BGR2HLS)\n",
    "h, l, s = cv2.split(hls_img)\n",
    "\n",
    "# 이미지 크기 조절\n",
    "input_img_resized = cv2.resize(input_img, (300, 300))\n",
    "h_resized = cv2.resize(h, (300, 300))\n",
    "l_resized = cv2.resize(l, (300, 300))\n",
    "s_resized = cv2.resize(s, (300, 300))\n",
    "\n",
    "cv2.namedWindow(\"Original\", cv2.WINDOW_AUTOSIZE)\n",
    "cv2.namedWindow(\"H\", cv2.WINDOW_AUTOSIZE)\n",
    "cv2.namedWindow(\"L\", cv2.WINDOW_AUTOSIZE)\n",
    "cv2.namedWindow(\"S\", cv2.WINDOW_AUTOSIZE)\n",
    "\n",
    "cv2.moveWindow(\"Original\", 100, 100)\n",
    "cv2.moveWindow(\"H\", 420, 100)\n",
    "cv2.moveWindow(\"L\", 740, 100)\n",
    "cv2.moveWindow(\"S\", 1060, 100)\n",
    "\n",
    "cv2.imshow(\"Original\", input_img_resized)\n",
    "cv2.imshow(\"H\", h_resized)\n",
    "cv2.imshow(\"L\", l_resized)\n",
    "cv2.imshow(\"S\", s_resized)\n",
    "\n",
    "cv2.waitKey(0)\n",
    "cv2.destroyAllWindows()\n",
    "\n"
   ]
  }
 ],
 "metadata": {
  "kernelspec": {
   "display_name": "AllLeave",
   "language": "python",
   "name": "python3"
  },
  "language_info": {
   "codemirror_mode": {
    "name": "ipython",
    "version": 3
   },
   "file_extension": ".py",
   "mimetype": "text/x-python",
   "name": "python",
   "nbconvert_exporter": "python",
   "pygments_lexer": "ipython3",
   "version": "3.11.4"
  }
 },
 "nbformat": 4,
 "nbformat_minor": 2
}
